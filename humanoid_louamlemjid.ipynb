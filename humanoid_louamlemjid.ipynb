{
  "cells": [
    {
      "cell_type": "markdown",
      "metadata": {
        "colab_type": "text",
        "id": "view-in-github"
      },
      "source": [
        "<a href=\"https://colab.research.google.com/github/louamlemjid/project06-humanoid-obj-manipulation/blob/master/humanoid_louamlemjid.ipynb\" target=\"_parent\"><img src=\"https://colab.research.google.com/assets/colab-badge.svg\" alt=\"Open In Colab\"/></a>"
      ]
    },
    {
      "cell_type": "markdown",
      "metadata": {},
      "source": [
        "Supprimer le dossier repo dans colab !!!"
      ]
    },
    {
      "cell_type": "code",
      "execution_count": null,
      "metadata": {},
      "outputs": [],
      "source": [
        "!rm -r project06-humanoid-obj-manipulation"
      ]
    },
    {
      "cell_type": "markdown",
      "metadata": {},
      "source": [
        "importer le repo :"
      ]
    },
    {
      "cell_type": "code",
      "execution_count": 3,
      "metadata": {
        "colab": {
          "base_uri": "https://localhost:8080/"
        },
        "id": "LGIQ8MNuRLZm",
        "outputId": "988a6b7d-96ae-4709-9afd-3b8e38f2dd50"
      },
      "outputs": [
        {
          "name": "stdout",
          "output_type": "stream",
          "text": [
            "Cloning into 'project06-humanoid-obj-manipulation'...\n",
            "remote: Enumerating objects: 203, done.\u001b[K\n",
            "remote: Counting objects: 100% (203/203), done.\u001b[K\n",
            "remote: Compressing objects: 100% (151/151), done.\u001b[K\n",
            "remote: Total 203 (delta 63), reused 174 (delta 37), pack-reused 0 (from 0)\u001b[K\n",
            "Receiving objects: 100% (203/203), 6.19 MiB | 19.37 MiB/s, done.\n",
            "Resolving deltas: 100% (63/63), done.\n"
          ]
        }
      ],
      "source": [
        "!git clone https://github.com/louamlemjid/project06-humanoid-obj-manipulation.git"
      ]
    },
    {
      "cell_type": "markdown",
      "metadata": {
        "id": "IZbvdYvhRzf4"
      },
      "source": [
        "load model\n",
        "**H1**"
      ]
    },
    {
      "cell_type": "markdown",
      "metadata": {
        "id": "51dabd8d"
      },
      "source": [
        "# Task\n",
        "Install dm_control and its dependencies, then load the \"h1.xml\" MuJoCo model, create a physics environment, render the simulation, and display the rendering in the Colab notebook."
      ]
    },
    {
      "cell_type": "markdown",
      "metadata": {
        "id": "1b03aa7a"
      },
      "source": [
        "## Install dm control\n",
        "\n",
        "### Subtask:\n",
        "Install the `dm_control` library and its dependencies.\n"
      ]
    },
    {
      "cell_type": "code",
      "execution_count": 4,
      "metadata": {
        "colab": {
          "base_uri": "https://localhost:8080/"
        },
        "id": "IbZxYDxzoz5R",
        "outputId": "7e93bf5c-a5a6-43dc-ca9c-b698b0cfa393"
      },
      "outputs": [
        {
          "name": "stdout",
          "output_type": "stream",
          "text": [
            "Installing dm_control...\n",
            "env: MUJOCO_GL=egl\n",
            "Checking that the dm_control installation succeeded...\n",
            "Installed dm_control 1.0.31\n"
          ]
        }
      ],
      "source": [
        "#@title Run to install MuJoCo and `dm_control`\n",
        "import distutils.util\n",
        "import os\n",
        "import subprocess\n",
        "if subprocess.run('nvidia-smi').returncode:\n",
        "  raise RuntimeError(\n",
        "      'Cannot communicate with GPU. '\n",
        "      'Make sure you are using a GPU Colab runtime. '\n",
        "      'Go to the Runtime menu and select Choose runtime type.')\n",
        "\n",
        "# Add an ICD config so that glvnd can pick up the Nvidia EGL driver.\n",
        "# This is usually installed as part of an Nvidia driver package, but the Colab\n",
        "# kernel doesn't install its driver via APT, and as a result the ICD is missing.\n",
        "# (https://github.com/NVIDIA/libglvnd/blob/master/src/EGL/icd_enumeration.md)\n",
        "NVIDIA_ICD_CONFIG_PATH = '/usr/share/glvnd/egl_vendor.d/10_nvidia.json'\n",
        "if not os.path.exists(NVIDIA_ICD_CONFIG_PATH):\n",
        "  with open(NVIDIA_ICD_CONFIG_PATH, 'w') as f:\n",
        "    f.write(\"\"\"{\n",
        "    \"file_format_version\" : \"1.0.0\",\n",
        "    \"ICD\" : {\n",
        "        \"library_path\" : \"libEGL_nvidia.so.0\"\n",
        "    }\n",
        "}\n",
        "\"\"\")\n",
        "\n",
        "print('Installing dm_control...')\n",
        "!pip install -q dm_control>=1.0.31\n",
        "\n",
        "# Configure dm_control to use the EGL rendering backend (requires GPU)\n",
        "%env MUJOCO_GL=egl\n",
        "\n",
        "print('Checking that the dm_control installation succeeded...')\n",
        "try:\n",
        "  from dm_control import suite\n",
        "  env = suite.load('cartpole', 'swingup')\n",
        "  pixels = env.physics.render()\n",
        "except Exception as e:\n",
        "  raise e from RuntimeError(\n",
        "      'Something went wrong during installation. Check the shell output above '\n",
        "      'for more information.\\n'\n",
        "      'If using a hosted Colab runtime, make sure you enable GPU acceleration '\n",
        "      'by going to the Runtime menu and selecting \"Choose runtime type\".')\n",
        "else:\n",
        "  del pixels, suite\n",
        "\n",
        "!echo Installed dm_control $(pip show dm_control | grep -Po \"(?<=Version: ).+\")"
      ]
    },
    {
      "cell_type": "markdown",
      "metadata": {
        "id": "99c1d369"
      },
      "source": [
        "**Reasoning**:\n",
        "Install the `dm_control` library and its dependencies using pip.\n",
        "\n"
      ]
    },
    {
      "cell_type": "code",
      "execution_count": 5,
      "metadata": {
        "id": "T5f4w3Kq2X14"
      },
      "outputs": [],
      "source": [
        "#@title All `dm_control` imports required for this tutorial\n",
        "\n",
        "# The basic mujoco wrapper.\n",
        "from dm_control import mujoco\n",
        "\n",
        "# Access to enums and MuJoCo library functions.\n",
        "from dm_control.mujoco.wrapper.mjbindings import enums\n",
        "from dm_control.mujoco.wrapper.mjbindings import mjlib\n",
        "\n",
        "# Composer high level imports\n",
        "from dm_control import composer\n",
        "from dm_control.composer.observation import observable\n",
        "from dm_control.composer import variation\n",
        "\n",
        "# Imports for Composer tutorial example\n",
        "from dm_control.composer.variation import distributions\n",
        "from dm_control.composer.variation import noises\n",
        "from dm_control.locomotion.arenas import floors\n",
        "\n",
        "# Control Suite\n",
        "from dm_control import suite\n",
        "\n",
        "# Run through corridor example\n",
        "from dm_control.locomotion.walkers import cmu_humanoid\n",
        "from dm_control.locomotion.arenas import corridors as corridor_arenas\n",
        "from dm_control.locomotion.tasks import corridors as corridor_tasks\n",
        "\n",
        "# Soccer\n",
        "from dm_control.locomotion import soccer\n",
        "\n",
        "# Manipulation\n",
        "from dm_control import manipulation"
      ]
    },
    {
      "cell_type": "markdown",
      "metadata": {
        "id": "f5c74ace"
      },
      "source": [
        "## Import necessary libraries\n",
        "\n",
        "### Subtask:\n",
        "Import modules from `dm_control` and other required libraries.\n"
      ]
    },
    {
      "cell_type": "code",
      "execution_count": 6,
      "metadata": {
        "colab": {
          "base_uri": "https://localhost:8080/"
        },
        "id": "gKc1FNhKiVJX",
        "outputId": "a9cf1026-df05-43c4-a71e-f6e9be8d4f12"
      },
      "outputs": [
        {
          "name": "stderr",
          "output_type": "stream",
          "text": [
            "/usr/local/lib/python3.11/dist-packages/matplotlib_inline/config.py:68: DeprecationWarning: InlineBackend._figure_format_changed is deprecated in traitlets 4.1: use @observe and @unobserve instead.\n",
            "  def _figure_format_changed(self, name, old, new):\n"
          ]
        }
      ],
      "source": [
        "#@title Other imports and helper functions\n",
        "\n",
        "# General\n",
        "import copy\n",
        "import os\n",
        "import time\n",
        "import itertools\n",
        "from IPython.display import clear_output\n",
        "import numpy as np\n",
        "\n",
        "# Graphics-related\n",
        "import matplotlib\n",
        "import matplotlib.animation as animation\n",
        "import matplotlib.pyplot as plt\n",
        "from IPython.display import HTML\n",
        "import PIL.Image\n",
        "# Internal loading of video libraries.\n",
        "\n",
        "# Use svg backend for figure rendering\n",
        "%config InlineBackend.figure_format = 'svg'\n",
        "\n",
        "# Font sizes\n",
        "SMALL_SIZE = 8\n",
        "MEDIUM_SIZE = 10\n",
        "BIGGER_SIZE = 12\n",
        "plt.rc('font', size=SMALL_SIZE)          # controls default text sizes\n",
        "plt.rc('axes', titlesize=SMALL_SIZE)     # fontsize of the axes title\n",
        "plt.rc('axes', labelsize=MEDIUM_SIZE)    # fontsize of the x and y labels\n",
        "plt.rc('xtick', labelsize=SMALL_SIZE)    # fontsize of the tick labels\n",
        "plt.rc('ytick', labelsize=SMALL_SIZE)    # fontsize of the tick labels\n",
        "plt.rc('legend', fontsize=SMALL_SIZE)    # legend fontsize\n",
        "plt.rc('figure', titlesize=BIGGER_SIZE)  # fontsize of the figure title\n",
        "\n",
        "# Inline video helper function\n",
        "if os.environ.get('COLAB_NOTEBOOK_TEST', False):\n",
        "  # We skip video generation during tests, as it is quite expensive.\n",
        "  display_video = lambda *args, **kwargs: None\n",
        "else:\n",
        "  def display_video(frames, framerate=30):\n",
        "    height, width, _ = frames[0].shape\n",
        "    dpi = 70\n",
        "# Access to enums and MuJoCo library functions.\n",
        "    orig_backend = matplotlib.get_backend()\n",
        "    matplotlib.use('Agg')  # Switch to headless 'Agg' to inhibit figure rendering.\n",
        "    fig, ax = plt.subplots(1, 1, figsize=(width / dpi, height / dpi), dpi=dpi)\n",
        "    matplotlib.use(orig_backend)  # Switch back to the original backend.\n",
        "    ax.set_axis_off()\n",
        "    ax.set_aspect('equal')\n",
        "    ax.set_position([0, 0, 1, 1])\n",
        "    im = ax.imshow(frames[0])\n",
        "    def update(frame):\n",
        "      im.set_data(frame)\n",
        "      return [im]\n",
        "    interval = 1000/framerate\n",
        "    anim = animation.FuncAnimation(fig=fig, func=update, frames=frames,\n",
        "                                   interval=interval, blit=True, repeat=False)\n",
        "    return HTML(anim.to_html5_video())\n",
        "\n",
        "# Seed numpy's global RNG so that cell outputs are deterministic. We also try to\n",
        "# use RandomState instances that are local to a single cell wherever possible.\n",
        "np.random.seed(42)"
      ]
    },
    {
      "cell_type": "markdown",
      "metadata": {
        "id": "73c41072"
      },
      "source": [
        "**Reasoning**:\n",
        "Import the necessary modules from dm_control and matplotlib as instructed.\n",
        "\n"
      ]
    },
    {
      "cell_type": "markdown",
      "metadata": {
        "id": "501357a3"
      },
      "source": [
        "## Load the mujoco model\n",
        "\n",
        "### Subtask:\n",
        "Load your `h1.xml` MuJoCo model using `dm_control`'s loading functions.\n"
      ]
    },
    {
      "cell_type": "markdown",
      "metadata": {
        "id": "742608f3"
      },
      "source": [
        "**Reasoning**:\n",
        "Define the model path and load the MuJoCo model using `dm_control`.\n",
        "\n"
      ]
    },
    {
      "cell_type": "code",
      "execution_count": null,
      "metadata": {
        "colab": {
          "base_uri": "https://localhost:8080/",
          "height": 257
        },
        "id": "8o57j34KfLVM",
        "outputId": "c7b19329-8f80-49fb-d8e5-742d9dac7a8c"
      },
      "outputs": [
        {
          "data": {
            "image/jpeg": "[encoded data removed]",
            "image/png": "[encoded data removed]",
            "text/plain": [
              "<PIL.Image.Image image mode=RGB size=320x240>"
            ]
          },
          "execution_count": 25,
          "metadata": {},
          "output_type": "execute_result"
        }
      ],
      "source": [
        "scene_option = mujoco.wrapper.core.MjvOption()\n",
        "scene_option.flags[enums.mjtVisFlag.mjVIS_JOINT] = True\n",
        "pixels = physics.render(scene_option=scene_option)\n",
        "PIL.Image.fromarray(pixels)"
      ]
    },
    {
      "cell_type": "markdown",
      "metadata": {
        "id": "PPwP7wVtmnMe"
      },
      "source": [
        "### **DEBUT DE L'IMPLEMENTATION**"
      ]
    },
    {
      "cell_type": "code",
      "execution_count": 7,
      "metadata": {
        "id": "F0NQYlcz-efy"
      },
      "outputs": [],
      "source": [
        "# src/sim/scene_builder.py\n",
        "\n",
        "from dm_control import mujoco\n",
        "import os\n",
        "import PIL.Image\n",
        "class SceneBuilder:\n",
        "    \"\"\"\n",
        "    Responsible for building a complete MuJoCo scene directly\n",
        "    from a given XML file.\n",
        "    \"\"\"\n",
        "\n",
        "    @staticmethod\n",
        "    def build(scene_xml_path: str) -> mujoco.Physics:\n",
        "        \"\"\"\n",
        "        Loads and compiles a MuJoCo scene from a specified XML file.\n",
        "\n",
        "        This is a static method, so you can call it directly on the class\n",
        "        without creating an instance: `SceneBuilder.build_from_xml(...)`.\n",
        "\n",
        "        Args:\n",
        "            scene_xml_path: The full path to the scene's .xml file.\n",
        "\n",
        "        Returns:\n",
        "            A compiled dm_control.mujoco.Physics instance.\n",
        "\n",
        "        Raises:\n",
        "            FileNotFoundError: If the provided XML file path does not exist.\n",
        "        \"\"\"\n",
        "        if not os.path.exists(scene_xml_path):\n",
        "            raise FileNotFoundError(\n",
        "                f\"The specified scene file was not found: {scene_xml_path}\"\n",
        "            )\n",
        "\n",
        "        print(f\"Loading scene from: {scene_xml_path}\")\n",
        "\n",
        "        # The core function to load a model from a complete XML file.\n",
        "        physics = mujoco.Physics.from_xml_path(scene_xml_path)\n",
        "\n",
        "        print(\"Scene built successfully.\")\n",
        "        return physics"
      ]
    },
    {
      "cell_type": "markdown",
      "metadata": {
        "id": "OGY2YS8_EoND"
      },
      "source": [
        "# instantiation"
      ]
    },
    {
      "cell_type": "code",
      "execution_count": 8,
      "metadata": {
        "colab": {
          "base_uri": "https://localhost:8080/"
        },
        "id": "5TRhSU0wEnow",
        "outputId": "f7ac6142-6129-495c-ab24-fd2d78b5137d"
      },
      "outputs": [
        {
          "name": "stdout",
          "output_type": "stream",
          "text": [
            "Loading scene from: ./project06-humanoid-obj-manipulation/models/dex_hand/cube_scene.xml\n",
            "Scene built successfully.\n"
          ]
        },
        {
          "data": {
            "text/plain": [
              "<dm_control.mujoco.engine.Physics at 0x7f002304d950>"
            ]
          },
          "execution_count": 8,
          "metadata": {},
          "output_type": "execute_result"
        }
      ],
      "source": [
        "pathToModel = \"./project06-humanoid-obj-manipulation/models/dex_hand/cube_scene.xml\"\n",
        "sceneBuilder = SceneBuilder()\n",
        "physics = sceneBuilder.build(pathToModel)\n",
        "physics"
      ]
    },
    {
      "cell_type": "markdown",
      "metadata": {
        "id": "atkzarCsFBZ8"
      },
      "source": [
        "# visualisation"
      ]
    },
    {
      "cell_type": "code",
      "execution_count": 9,
      "metadata": {
        "colab": {
          "base_uri": "https://localhost:8080/",
          "height": 257
        },
        "id": "4bA-bvlFFEkP",
        "outputId": "04ff562e-8df9-4bed-c2bf-792c386503cf"
      },
      "outputs": [
        {
          "data": {
            "image/jpeg": "[encoded data removed]",
            "image/png": "[encoded data removed]",
            "text/plain": [
              "<PIL.Image.Image image mode=RGB size=320x240>"
            ]
          },
          "execution_count": 9,
          "metadata": {},
          "output_type": "execute_result"
        }
      ],
      "source": [
        "scene_option = mujoco.wrapper.core.MjvOption()\n",
        "scene_option.flags[enums.mjtVisFlag.mjVIS_JOINT] = True\n",
        "pixels = physics.render(scene_option=scene_option)\n",
        "PIL.Image.fromarray(pixels)"
      ]
    },
    {
      "cell_type": "markdown",
      "metadata": {
        "id": "Q1FSDusRELY_"
      },
      "source": [
        "## dex hand class"
      ]
    },
    {
      "cell_type": "code",
      "execution_count": 10,
      "metadata": {
        "colab": {
          "base_uri": "https://localhost:8080/"
        },
        "id": "XfE7y4fSorLl",
        "outputId": "e8ca98c0-3f42-416d-c61c-7ba60d6283e2"
      },
      "outputs": [
        {
          "data": {
            "text/plain": [
              "FieldIndexer(xpos):\n",
              "                     x         y         z         \n",
              " 0           world [ 0         0         0       ]\n",
              " 1      lh_forearm [ 0         0         0       ]\n",
              " 2        lh_wrist [ 0.213     0         0.01    ]\n",
              " 3         lh_palm [ 0.247     0         0.01    ]\n",
              " 4    lh_ffknuckle [ 0.342     0.033     0.01    ]\n",
              " 5   lh_ffproximal [ 0.342     0.033     0.01    ]\n",
              " 6     lh_ffmiddle [ 0.387     0.033     0.01    ]\n",
              " 7     lh_ffdistal [ 0.412     0.033     0.01    ]\n",
              " 8    lh_mfknuckle [ 0.346     0.011     0.01    ]\n",
              " 9   lh_mfproximal [ 0.346     0.011     0.01    ]\n",
              "10     lh_mfmiddle [ 0.391     0.011     0.01    ]\n",
              "11     lh_mfdistal [ 0.416     0.011     0.01    ]\n",
              "12    lh_rfknuckle [ 0.342    -0.011     0.01    ]\n",
              "13   lh_rfproximal [ 0.342    -0.011     0.01    ]\n",
              "14     lh_rfmiddle [ 0.387    -0.011     0.01    ]\n",
              "15     lh_rfdistal [ 0.412    -0.011     0.01    ]\n",
              "16 lh_lfmetacarpal [ 0.268    -0.033     0.01    ]\n",
              "17    lh_lfknuckle [ 0.334    -0.033     0.01    ]\n",
              "18   lh_lfproximal [ 0.334    -0.033     0.01    ]\n",
              "19     lh_lfmiddle [ 0.379    -0.033     0.01    ]\n",
              "20     lh_lfdistal [ 0.404    -0.033     0.01    ]\n",
              "21       lh_thbase [ 0.276     0.034     0.0186  ]\n",
              "22   lh_thproximal [ 0.276     0.034     0.0186  ]\n",
              "23        lh_thhub [ 0.303     0.0609    0.0186  ]\n",
              "24     lh_thmiddle [ 0.303     0.0609    0.0186  ]\n",
              "25     lh_thdistal [ 0.326     0.0835    0.0186  ]\n",
              "26            cube [ 0.3       0         0.1     ]"
            ]
          },
          "execution_count": 10,
          "metadata": {},
          "output_type": "execute_result"
        }
      ],
      "source": [
        "physics.named.data.xpos"
      ]
    },
    {
      "cell_type": "code",
      "execution_count": 11,
      "metadata": {
        "colab": {
          "base_uri": "https://localhost:8080/"
        },
        "id": "lf2FSGHKu9WW",
        "outputId": "d9b9fece-73f1-4db2-d7c5-9791fc0caea1"
      },
      "outputs": [
        {
          "data": {
            "text/plain": [
              "FieldIndexer(qpos):\n",
              " 0    lh_WRJ2 [ 0       ]\n",
              " 1    lh_WRJ1 [ 0       ]\n",
              " 2    lh_FFJ4 [ 0       ]\n",
              " 3    lh_FFJ3 [ 0       ]\n",
              " 4    lh_FFJ2 [ 0       ]\n",
              " 5    lh_FFJ1 [ 0       ]\n",
              " 6    lh_MFJ4 [ 0       ]\n",
              " 7    lh_MFJ3 [ 0       ]\n",
              " 8    lh_MFJ2 [ 0       ]\n",
              " 9    lh_MFJ1 [ 0       ]\n",
              "10    lh_RFJ4 [ 0       ]\n",
              "11    lh_RFJ3 [ 0       ]\n",
              "12    lh_RFJ2 [ 0       ]\n",
              "13    lh_RFJ1 [ 0       ]\n",
              "14    lh_LFJ5 [ 0       ]\n",
              "15    lh_LFJ4 [ 0       ]\n",
              "16    lh_LFJ3 [ 0       ]\n",
              "17    lh_LFJ2 [ 0       ]\n",
              "18    lh_LFJ1 [ 0       ]\n",
              "19    lh_THJ5 [ 0       ]\n",
              "20    lh_THJ4 [ 0       ]\n",
              "21    lh_THJ3 [ 0       ]\n",
              "22    lh_THJ2 [ 0       ]\n",
              "23    lh_THJ1 [ 0       ]\n",
              "24 cube_joint [ 0.3     ]\n",
              "25 cube_joint [ 0       ]\n",
              "26 cube_joint [ 0.1     ]\n",
              "27 cube_joint [ 1       ]\n",
              "28 cube_joint [ 0       ]\n",
              "29 cube_joint [ 0       ]\n",
              "30 cube_joint [ 0       ]"
            ]
          },
          "execution_count": 11,
          "metadata": {},
          "output_type": "execute_result"
        }
      ],
      "source": [
        "physics.named.data.qpos"
      ]
    },
    {
      "cell_type": "markdown",
      "metadata": {
        "id": "-L-NNvBzw8kE"
      },
      "source": [
        "# Difference entre QPOS et XPOS ?????"
      ]
    },
    {
      "cell_type": "code",
      "execution_count": 13,
      "metadata": {
        "colab": {
          "base_uri": "https://localhost:8080/"
        },
        "id": "fVP7FRfe3aLB",
        "outputId": "2d69f561-5745-4cb3-f577-ce0838c6fc86"
      },
      "outputs": [
        {
          "data": {
            "text/plain": [
              "array([[-0.523599,  0.174533],\n",
              "       [-0.698132,  0.488692],\n",
              "       [-1.0472  ,  1.0472  ],\n",
              "       [ 0.      ,  1.22173 ],\n",
              "       [-0.20944 ,  0.20944 ],\n",
              "       [-0.698132,  0.698132],\n",
              "       [-0.261799,  1.5708  ],\n",
              "       [-0.349066,  0.349066],\n",
              "       [-0.261799,  1.5708  ],\n",
              "       [ 0.      ,  3.1415  ],\n",
              "       [-0.349066,  0.349066],\n",
              "       [-0.261799,  1.5708  ],\n",
              "       [ 0.      ,  3.1415  ],\n",
              "       [-0.349066,  0.349066],\n",
              "       [-0.261799,  1.5708  ],\n",
              "       [ 0.      ,  3.1415  ],\n",
              "       [ 0.      ,  0.785398],\n",
              "       [-0.349066,  0.349066],\n",
              "       [-0.261799,  1.5708  ],\n",
              "       [ 0.      ,  3.1415  ]])"
            ]
          },
          "execution_count": 13,
          "metadata": {},
          "output_type": "execute_result"
        }
      ],
      "source": [
        "physics.model.actuator_ctrlrange"
      ]
    },
    {
      "cell_type": "code",
      "execution_count": 14,
      "metadata": {
        "id": "meSJxdxyCnnA"
      },
      "outputs": [],
      "source": [
        "# src/robot/base_robot.py\n",
        "from abc import ABC, abstractmethod\n",
        "import numpy as np\n",
        "from dm_control import mujoco\n",
        "\n",
        "class BaseRobot(ABC):\n",
        "    \"\"\"Abstract base class for any robot in the simulation.\"\"\"\n",
        "\n",
        "    def __init__(self, physics: mujoco.Physics):\n",
        "        self._physics = physics\n",
        "        self._model = physics.model\n",
        "        self._controllable_joint_ids = []\n",
        "        self._actuator_ids = []\n",
        "\n",
        "    @property\n",
        "    def physics(self) -> mujoco.Physics:\n",
        "        return self._physics\n",
        "\n",
        "    @property\n",
        "    def model(self) -> mujoco.wrapper.core.MjModel:\n",
        "        return self._model\n",
        "\n",
        "    @property\n",
        "    def controllable_joint_ids(self) -> list[int]:\n",
        "        \"\"\"Returns a list of MuJoCo IDs for joints controlled by this robot.\"\"\"\n",
        "        return self._controllable_joint_ids\n",
        "\n",
        "    @property\n",
        "    def actuator_ids(self) -> list[int]:\n",
        "        \"\"\"Returns a list of MuJoCo IDs for actuators controlling this robot.\"\"\"\n",
        "        return self._actuator_ids\n",
        "\n",
        "    @property\n",
        "    def action_space_limits(self) -> tuple[np.ndarray, np.ndarray]:\n",
        "        \"\"\"Returns (low, high) bounds for the robot's action space.\"\"\"\n",
        "        low = self._model.actuator_ctrlrange[self.actuator_ids, 0]\n",
        "        high = self._model.actuator_ctrlrange[self.actuator_ids, 1]\n",
        "        return low, high\n",
        "\n",
        "    @abstractmethod\n",
        "    def get_observation_data(self) -> np.ndarray:\n",
        "        \"\"\"Returns the part of the observation related to this robot's state.\"\"\"\n",
        "        pass\n",
        "\n",
        "    @abstractmethod\n",
        "    def set_commands(self, actions: np.ndarray):\n",
        "        \"\"\"Applies actions to the robot's actuators.\"\"\"\n",
        "        pass\n",
        "\n",
        "    @abstractmethod\n",
        "    def reset_state(self):\n",
        "        \"\"\"Resets the robot's joint positions and velocities to initial state.\"\"\"\n",
        "        pass\n",
        "class DexHandRobot(BaseRobot):\n",
        "    \"\"\"Concrete implementation for the Dex Hand robot.\"\"\"\n",
        "\n",
        "    def __init__(self, physics: mujoco.Physics):\n",
        "        super().__init__(physics)\n",
        "        # Identify specific joint and actuator IDs for the Dex Hand\n",
        "        # Filter for names starting with 'lh_' (left hand) and exclude wrist for finger-only control\n",
        "        self._controllable_joint_ids = [5,4,3,2,18,17,16,15,14,9,8,\n",
        "            7,6,13,12,11,10,23,22,21,20,19]\n",
        "        self._actuator_ids = [9, 8, 7, 19, 18, 17, 16, 12, 11, 10, 15, 14, 13, 6, 5, 4, 3, 2]\n",
        "\n",
        "\n",
        "        # Store initial qpos for the Dex Hand for reset (only for controllable joints)\n",
        "        self._initial_qpos = self.physics.data.qpos[self.controllable_joint_ids].copy()\n",
        "\n",
        "    def get_observation_data(self) -> np.ndarray:\n",
        "        \"\"\"Returns Dex Hand's qpos and qvel for controllable joints.\"\"\"\n",
        "        qpos_obs = self.physics.data.qpos[self.controllable_joint_ids]\n",
        "        qvel_obs = self.physics.data.qvel[self.controllable_joint_ids]\n",
        "        return np.concatenate([qpos_obs, qvel_obs]).astype(np.float32)\n",
        "\n",
        "    def set_commands(self, actions: np.ndarray):\n",
        "        \"\"\"Applies actions (target joint positions) to Dex Hand actuators.\"\"\"\n",
        "        # Actions array should directly correspond to the order of actuator_ids\n",
        "        for i, act_id in enumerate(self.actuator_ids):\n",
        "            self.physics.data.ctrl[act_id] = actions[i]\n",
        "\n",
        "    def reset_state(self):\n",
        "        \"\"\"Resets the Dex Hand's joint positions and velocities.\"\"\"\n",
        "        # Set qpos for controllable joints to their initial state\n",
        "        self.physics.data.qpos[self.controllable_joint_ids] = self._initial_qpos\n",
        "        # Set qvel for controllable joints to zero\n",
        "        self.physics.data.qvel[self.controllable_joint_ids] = 0.0"
      ]
    },
    {
      "cell_type": "markdown",
      "metadata": {
        "id": "rUzhzJumFMVJ"
      },
      "source": [
        "# instantiation dex hand"
      ]
    },
    {
      "cell_type": "code",
      "execution_count": 15,
      "metadata": {
        "colab": {
          "base_uri": "https://localhost:8080/"
        },
        "id": "O3rTQRkGL_JK",
        "outputId": "ce2ec947-e9b5-42ac-f7de-1f66f1569548"
      },
      "outputs": [
        {
          "data": {
            "text/plain": [
              "array([-6.3581258e-02,  1.3704802e+00, -5.4658931e-03,  2.6656475e-03,\n",
              "       -6.3595913e-02,  1.3704872e+00, -6.1908746e-03,  5.7373069e-05,\n",
              "       -7.0676242e-04, -6.3583568e-02,  1.3704751e+00, -5.4941089e-03,\n",
              "       -8.9541507e-05,  1.3704677e+00, -6.0264908e-02, -1.4804831e-02,\n",
              "        9.0959456e-06,  1.3540538e-03,  1.3581306e+00, -9.5879566e-03,\n",
              "        1.2780966e-01, -2.5148556e-01, -1.6446991e-02, -1.2891633e+01,\n",
              "        3.3544775e-03, -3.2751034e-03, -1.6092790e-02, -1.2888098e+01,\n",
              "        1.3383325e-02, -1.9830132e-03, -4.5220017e-02, -1.6399488e-02,\n",
              "       -1.2894167e+01,  2.5529473e-03,  4.4631436e-03, -1.2897877e+01,\n",
              "       -1.9687908e-02,  2.6285085e-03, -4.5854189e-03, -2.4243440e-03,\n",
              "       -1.9066408e+01, -2.0058618e-01,  1.0845219e+00, -1.0138612e+00],\n",
              "      dtype=float32)"
            ]
          },
          "execution_count": 15,
          "metadata": {},
          "output_type": "execute_result"
        }
      ],
      "source": [
        "robot = DexHandRobot(physics)\n",
        "robot.get_observation_data()"
      ]
    },
    {
      "cell_type": "markdown",
      "metadata": {
        "id": "BrYPHFBgOOYq"
      },
      "source": [
        "## object class"
      ]
    },
    {
      "cell_type": "code",
      "execution_count": 16,
      "metadata": {
        "id": "FjZ3rDlxORH6"
      },
      "outputs": [],
      "source": [
        "# src/objects/base_object.py\n",
        "from abc import ABC, abstractmethod\n",
        "import numpy as np\n",
        "from dm_control import mujoco\n",
        "\n",
        "class BaseObject(ABC):\n",
        "    \"\"\"Abstract base class for any manipulable object.\"\"\"\n",
        "\n",
        "    def __init__(self, physics: mujoco.Physics, object_config: dict):\n",
        "        self._physics = physics\n",
        "        self._model = physics.model\n",
        "        self._object_config = object_config\n",
        "        self._body_id = self._model.name2id('cube','body')\n",
        "        self._joint_id = self._model.name2id('cube_joint','joint')\n",
        "\n",
        "    @property\n",
        "    def physics(self) -> mujoco.Physics:\n",
        "        return self._physics\n",
        "\n",
        "    @property\n",
        "    def model(self) -> mujoco.wrapper.core.MjModel:\n",
        "        return self._model\n",
        "\n",
        "    @property\n",
        "    def body_id(self) -> int:\n",
        "        return self._body_id\n",
        "\n",
        "    @property\n",
        "    def joint_id(self) -> int:\n",
        "        return self._joint_id\n",
        "\n",
        "    @abstractmethod\n",
        "    def get_observation_data(self) -> np.ndarray:\n",
        "        \"\"\"Returns the part of the observation related to this object's state.\"\"\"\n",
        "        pass\n",
        "\n",
        "    @abstractmethod\n",
        "    def reset_state(self):\n",
        "        \"\"\"Resets the object's position and orientation to an initial (possibly randomized) state.\"\"\"\n",
        "        pass\n",
        "\n",
        "# src/objects/cube_object.py\n",
        "import numpy as np\n",
        "from dm_control import mujoco\n",
        "class CubeObject(BaseObject):\n",
        "    \"\"\"Concrete implementation for a manipulable cube object.\"\"\"\n",
        "\n",
        "    def __init__(self, physics: mujoco.Physics, object_config: dict):\n",
        "        super().__init__(physics, object_config)\n",
        "        self._initial_pos_relative = np.array(object_config[\"initial_pos_relative\"])\n",
        "        self._pos_randomization_range = {\n",
        "            k: np.array(v) for k, v in object_config[\"pos_randomization_range\"].items()\n",
        "        }\n",
        "\n",
        "    def get_observation_data(self) -> np.ndarray:\n",
        "        \"\"\"Returns cube's position, orientation, linear and angular velocities.\"\"\"\n",
        "        object_pos = self._physics.data.xpos[self._body_id]\n",
        "        object_quat = self._physics.data.xquat[self._body_id]\n",
        "        object_lin_vel = self._physics.data.object_velocity(self.body_id,'body')[0]\n",
        "        object_ang_vel = self._physics.data.object_velocity(self.body_id,'body')[1]\n",
        "        return np.concatenate([object_pos, object_quat, object_lin_vel, object_ang_vel]).astype(np.float32)\n",
        "\n",
        "    def reset_state(self):\n",
        "        \"\"\"Resets the cube's position to initial (with randomization) and velocity to zero.\"\"\"\n",
        "        object_initial_qpos_idx = self._model.jnt_qposadr[self.joint_id]\n",
        "\n",
        "        # Apply randomization to initial position\n",
        "        random_offset_x = np.random.uniform(self._pos_randomization_range['x'][0], self._pos_randomization_range['x'][1])\n",
        "        random_offset_y = np.random.uniform(self._pos_randomization_range['y'][0], self._pos_randomization_range['y'][1])\n",
        "        random_offset_z = np.random.uniform(self._pos_randomization_range['z'][0], self._pos_randomization_range['z'][1])\n",
        "\n",
        "        new_pos = self._initial_pos_relative + np.array([random_offset_x, random_offset_y, random_offset_z])\n",
        "\n",
        "        # Set the object's position (first 3 values of its free joint qpos)\n",
        "        self._physics.data.qpos[object_initial_qpos_idx:object_initial_qpos_idx+3] = new_pos\n",
        "        # Set the object's orientation (quaternion, next 4 values). Keep it upright.\n",
        "        self._physics.data.qpos[object_initial_qpos_idx+3:object_initial_qpos_idx+7] = np.array([1.0, 0.0, 0.0, 0.0]) # WXYZ identity quaternion\n",
        "\n",
        "        # Reset object's velocities (6 values for a free joint)\n",
        "        object_initial_qvel_idx = self._model.jnt_dofadr[self.joint_id]\n",
        "        self._physics.data.qvel[object_initial_qvel_idx:object_initial_qvel_idx+6] = 0.0"
      ]
    },
    {
      "cell_type": "markdown",
      "metadata": {
        "id": "9EllqinMOuND"
      },
      "source": [
        "## Instantiation Object"
      ]
    },
    {
      "cell_type": "code",
      "execution_count": 17,
      "metadata": {
        "id": "uxgbRLIDO1JF"
      },
      "outputs": [],
      "source": [
        "object_config = {\n",
        "    \"initial_pos_relative\": [0.0, 0.0, 0.0],\n",
        "    \"pos_randomization_range\": {\n",
        "        \"x\": [-0.1, 0.1],\n",
        "        \"y\": [-0.02, 0.02],\n",
        "    \"z\": [-0.005, 0.005]},\n",
        "    \"name\": \"cube\" ,\n",
        "  \"joint_name\": \"cube_joint\" ,\n",
        "  \"geom_name\": \"cube_geom\",\n",
        "  \"size\": [0.03, 0.04, 0.02],\n",
        "    \"rewards\":{\n",
        "            \"object_height_factor\": 100,\n",
        "                \"target_height\": 0.06,\n",
        "                \"target_height_bonus\": 500,\n",
        "                \"drop_penalty\": 200\n",
        "            },\n",
        "       \"env\":{\n",
        "           \"hand_model_path\": \"models/dex_hand/scene.xml\",\n",
        "           \"control_timestep\": 0.002,\n",
        "           \"episode_duration\": 2.0 # seconds\n",
        "       },\n",
        "    \"rl\":\n",
        "    {\n",
        "      \"total_timesteps\": 50000 ,# Keep low for initial test, increase to millions for actual training\n",
        "      \"log_dir\": \"./sac_hand_manipulation_logs/\",\n",
        "      \"model_save_path\": \"./trained_models/hand_policy.zip\",\n",
        "      \"learning_rate\": 0.0003,\n",
        "      \"buffer_size\": 10000,\n",
        "      \"learning_starts\": 100, # Start learning quickly for test\n",
        "      \"train_freq\": [1, \"episode\"],\n",
        "      \"gradient_steps\": 1,\n",
        "      \"ent_coef\": \"auto\",\n",
        "      \"save_freq\": 5000, # How often to save checkpoints during training}\n",
        "    }}\n",
        "\n",
        "manipulable_object = CubeObject(physics, object_config)"
      ]
    },
    {
      "cell_type": "code",
      "execution_count": 18,
      "metadata": {
        "colab": {
          "base_uri": "https://localhost:8080/"
        },
        "id": "0GMKTGI6scyF",
        "outputId": "3bd2ff2c-73ee-4795-facb-f4020c27da84"
      },
      "outputs": [
        {
          "data": {
            "text/plain": [
              "array([ 3.8657388e-01,  1.4473405e+00, -7.5107761e-02, -3.1532581e-33,\n",
              "       -1.7366182e-25,  2.1784970e-19,  1.0000000e+00, -1.0924305e-20,\n",
              "        9.5193670e-20,  7.5185007e-08,  3.1492801e-17, -5.2039855e-17,\n",
              "        8.2122924e-30], dtype=float32)"
            ]
          },
          "execution_count": 18,
          "metadata": {},
          "output_type": "execute_result"
        }
      ],
      "source": [
        "manipulable_object.get_observation_data()"
      ]
    },
    {
      "cell_type": "markdown",
      "metadata": {
        "id": "DQbQ39_gw1zK"
      },
      "source": [
        "### observation builder"
      ]
    },
    {
      "cell_type": "code",
      "execution_count": 19,
      "metadata": {
        "id": "OXUehAvdw6X7"
      },
      "outputs": [],
      "source": [
        "# src/env/observation_builder.py\n",
        "import numpy as np\n",
        "\n",
        "\n",
        "class ObservationBuilder:\n",
        "    \"\"\"\n",
        "    Responsible for building the complete observation array from various components.\n",
        "    \"\"\"\n",
        "    def __init__(self, robot: BaseRobot, manipulable_object: BaseObject):\n",
        "        self._robot = robot\n",
        "        self._object = manipulable_object\n",
        "\n",
        "    def build_observation(self) -> np.ndarray:\n",
        "        \"\"\"Collects observation data from robot and object and concatenates them.\"\"\"\n",
        "        robot_obs = self._robot.get_observation_data()\n",
        "        object_obs = self._object.get_observation_data()\n",
        "\n",
        "        obs = np.concatenate([\n",
        "            robot_obs,\n",
        "            object_obs,\n",
        "        ]).astype(np.float32)\n",
        "        return obs"
      ]
    },
    {
      "cell_type": "markdown",
      "metadata": {
        "id": "UY3mGMmhxC2R"
      },
      "source": [
        "## Instantiaiton observation builder"
      ]
    },
    {
      "cell_type": "code",
      "execution_count": 20,
      "metadata": {
        "colab": {
          "base_uri": "https://localhost:8080/"
        },
        "id": "EJNz0swOxH5E",
        "outputId": "3cca1ab9-ccc3-4671-9841-fd74ace0a18e"
      },
      "outputs": [
        {
          "data": {
            "text/plain": [
              "array([-6.3581258e-02,  1.3704802e+00, -5.4658931e-03,  2.6656475e-03,\n",
              "       -6.3595913e-02,  1.3704872e+00, -6.1908746e-03,  5.7373069e-05,\n",
              "       -7.0676242e-04, -6.3583568e-02,  1.3704751e+00, -5.4941089e-03,\n",
              "       -8.9541507e-05,  1.3704677e+00, -6.0264908e-02, -1.4804831e-02,\n",
              "        9.0959456e-06,  1.3540538e-03,  1.3581306e+00, -9.5879566e-03,\n",
              "        1.2780966e-01, -2.5148556e-01, -1.6446991e-02, -1.2891633e+01,\n",
              "        3.3544775e-03, -3.2751034e-03, -1.6092790e-02, -1.2888098e+01,\n",
              "        1.3383325e-02, -1.9830132e-03, -4.5220017e-02, -1.6399488e-02,\n",
              "       -1.2894167e+01,  2.5529473e-03,  4.4631436e-03, -1.2897877e+01,\n",
              "       -1.9687908e-02,  2.6285085e-03, -4.5854189e-03, -2.4243440e-03,\n",
              "       -1.9066408e+01, -2.0058618e-01,  1.0845219e+00, -1.0138612e+00,\n",
              "        3.8657388e-01,  1.4473405e+00, -7.5107761e-02, -3.1532581e-33,\n",
              "       -1.7366182e-25,  2.1784970e-19,  1.0000000e+00, -1.0924305e-20,\n",
              "        9.5193670e-20,  7.5185007e-08,  3.1492801e-17, -5.2039855e-17,\n",
              "        8.2122924e-30], dtype=float32)"
            ]
          },
          "execution_count": 20,
          "metadata": {},
          "output_type": "execute_result"
        }
      ],
      "source": [
        " observation_builder = ObservationBuilder(robot, manipulable_object)\n",
        " observation_builder.build_observation()"
      ]
    },
    {
      "cell_type": "markdown",
      "metadata": {
        "id": "gxcABkTrxoSV"
      },
      "source": [
        "## reward component"
      ]
    },
    {
      "cell_type": "code",
      "execution_count": 21,
      "metadata": {
        "colab": {
          "base_uri": "https://localhost:8080/"
        },
        "id": "nKVaKgiAsuVk",
        "outputId": "12213977-a7c0-4b5d-e4b8-cd79c6bc705f"
      },
      "outputs": [
        {
          "data": {
            "text/plain": [
              "array([ 0.38657388,  1.44734049, -0.07510776])"
            ]
          },
          "execution_count": 21,
          "metadata": {},
          "output_type": "execute_result"
        }
      ],
      "source": [
        "physics.data.xpos[manipulable_object.body_id]"
      ]
    },
    {
      "cell_type": "code",
      "execution_count": 22,
      "metadata": {
        "id": "jogxty4HxrqN"
      },
      "outputs": [],
      "source": [
        "# src/env/reward_components.py\n",
        "import numpy as np\n",
        "from dm_control import mujoco\n",
        "\n",
        "# Define individual reward functions here.\n",
        "# Each function takes physics, relevant object_body_id, and config.\n",
        "\n",
        "def object_height_reward(physics: mujoco.Physics, object_body_id: int, config: dict) -> float:\n",
        "    \"\"\"Rewards the agent based on the object's height.\"\"\"\n",
        "    object_height = physics.data.xpos[object_body_id][2] # Z-coordinate\n",
        "    reward = config.get(\"object_height_factor\", 100) * (object_height - 0.05) # Assume table is at Z=0.05\n",
        "    return float(reward)\n",
        "\n",
        "def target_height_bonus_reward(physics: mujoco.Physics, object_body_id: int, config: dict) -> float:\n",
        "    \"\"\"Gives a bonus if the object reaches a target height.\"\"\"\n",
        "    object_height = physics.data.xpos[object_body_id][2]\n",
        "    if object_height >= config.get(\"target_height\", 0.06):\n",
        "        return float(config.get(\"target_height_bonus\", 500))\n",
        "    return 0.0\n",
        "\n",
        "def drop_penalty_reward(physics: mujoco.Physics, object_body_id: int, config: dict) -> float:\n",
        "    \"\"\"Penalizes the agent if the object falls too low.\"\"\"\n",
        "    object_height = physics.data.xpos[object_body_id][2]\n",
        "    if object_height < config.get(\"drop_threshold\", 0.02): # Below a very low threshold\n",
        "        return float(-config.get(\"drop_penalty\", 200))\n",
        "    return 0.0"
      ]
    },
    {
      "cell_type": "markdown",
      "metadata": {
        "id": "8FwPfCE3xsk0"
      },
      "source": [
        "## Reward Composer"
      ]
    },
    {
      "cell_type": "code",
      "execution_count": 23,
      "metadata": {
        "id": "AXjceR9Nx0aP"
      },
      "outputs": [],
      "source": [
        "# src/env/reward_composer.py\n",
        "from typing import Callable, List\n",
        "from dm_control import mujoco\n",
        "\n",
        "class RewardComposer:\n",
        "    \"\"\"\n",
        "    Composes multiple individual reward components into a single total reward.\n",
        "    \"\"\"\n",
        "    def __init__(self, physics: mujoco.Physics, object_body_id: int, reward_config: dict):\n",
        "        self._physics = physics\n",
        "        self._object_body_id = object_body_id\n",
        "        self._reward_config = reward_config\n",
        "\n",
        "        # Define the list of active reward functions to use\n",
        "        self._reward_functions: List[Callable[[mujoco.Physics, int, dict], float]] = [\n",
        "            object_height_reward,\n",
        "            target_height_bonus_reward,\n",
        "            drop_penalty_reward,\n",
        "        ]\n",
        "\n",
        "    def get_total_reward(self) -> float:\n",
        "        \"\"\"Calculates the sum of all active reward components.\"\"\"\n",
        "        total_reward = 0.0\n",
        "        for func in self._reward_functions:\n",
        "            total_reward += func(self._physics, self._object_body_id, self._reward_config)\n",
        "        return total_reward"
      ]
    },
    {
      "cell_type": "markdown",
      "metadata": {
        "id": "u13LoF_G0pEZ"
      },
      "source": [
        "# Instantiation Reward Composer"
      ]
    },
    {
      "cell_type": "code",
      "execution_count": 24,
      "metadata": {
        "colab": {
          "base_uri": "https://localhost:8080/"
        },
        "id": "dRyw1QrS0uP5",
        "outputId": "a469d2ff-7ea2-4997-f80f-1118cdc5f467"
      },
      "outputs": [
        {
          "data": {
            "text/plain": [
              "-212.5107757478041"
            ]
          },
          "execution_count": 24,
          "metadata": {},
          "output_type": "execute_result"
        }
      ],
      "source": [
        "reward_composer = RewardComposer(physics, manipulable_object.body_id, object_config[\"rewards\"])\n",
        "reward_composer.get_total_reward()"
      ]
    },
    {
      "cell_type": "markdown",
      "metadata": {
        "id": "Mfuy2f7x2OkR"
      },
      "source": [
        "## Hand manipulation environment"
      ]
    },
    {
      "cell_type": "code",
      "execution_count": 25,
      "metadata": {
        "colab": {
          "base_uri": "https://localhost:8080/"
        },
        "id": "XcgaZaaT2V-9",
        "outputId": "0851c8e1-dad2-4ff5-b5bb-2400aaa7fb04"
      },
      "outputs": [
        {
          "data": {
            "text/plain": [
              "(array([ 0.      , -0.261799, -0.349066,  0.      , -0.261799, -0.349066,\n",
              "         0.      ,  0.      , -0.261799, -0.349066,  0.      , -0.261799,\n",
              "        -0.349066, -0.261799, -0.698132, -0.20944 ,  0.      , -1.0472  ]),\n",
              " array([3.1415  , 1.5708  , 0.349066, 3.1415  , 1.5708  , 0.349066,\n",
              "        0.785398, 3.1415  , 1.5708  , 0.349066, 3.1415  , 1.5708  ,\n",
              "        0.349066, 1.5708  , 0.698132, 0.20944 , 1.22173 , 1.0472  ]))"
            ]
          },
          "execution_count": 25,
          "metadata": {},
          "output_type": "execute_result"
        }
      ],
      "source": [
        "robot.action_space_limits"
      ]
    },
    {
      "cell_type": "code",
      "execution_count": 26,
      "metadata": {
        "id": "enzA4DyA2SS5"
      },
      "outputs": [],
      "source": [
        "# src/env/hand_manipulation_env.py\n",
        "import gymnasium as gym\n",
        "from gymnasium import spaces\n",
        "from dm_control import mujoco\n",
        "import numpy as np\n",
        "\n",
        "class HandManipulationEnv(gym.Env):\n",
        "    \"\"\"\n",
        "    Gymnasium environment for Dex Hand object manipulation.\n",
        "    Orchestrates the robot, object, observation, and reward components.\n",
        "    \"\"\"\n",
        "    def __init__(self, physics: mujoco.Physics,\n",
        "                 robot: BaseRobot,\n",
        "                 manipulable_object: BaseObject,\n",
        "                 observation_builder: ObservationBuilder,\n",
        "                 reward_composer: RewardComposer,\n",
        "                 env_config: dict):\n",
        "\n",
        "        super().__init__()\n",
        "        self._physics = physics\n",
        "        self._model = physics.model\n",
        "        self._robot = robot\n",
        "        self._object = manipulable_object\n",
        "        self._observation_builder = observation_builder\n",
        "        self._reward_composer = reward_composer\n",
        "        self._env_config = env_config\n",
        "\n",
        "        self.control_timestep = self._env_config[\"control_timestep\"]\n",
        "        self.episode_duration = self._env_config[\"episode_duration\"]\n",
        "\n",
        "        # Define Observation Space based on the ObservationBuilder\n",
        "        dummy_obs = self._observation_builder.build_observation()\n",
        "        self.observation_space = spaces.Box(low=-np.inf, high=np.inf,\n",
        "                                            shape=dummy_obs.shape, dtype=np.float32)\n",
        "\n",
        "        # Define Action Space based on the robot's action space limits\n",
        "        low_action, high_action = self._robot.action_space_limits\n",
        "        self.action_space = spaces.Box(low=low_action, high=high_action, dtype=np.float32)\n",
        "\n",
        "        # Store full initial qpos/qvel for MuJoCo's direct reset,\n",
        "        # then let robot/object components handle their specific parts.\n",
        "        self._initial_qpos_all = self._physics.data.qpos.copy()\n",
        "        self._initial_qvel_all = self._physics.data.qvel.copy()\n",
        "\n",
        "\n",
        "    def reset(self, seed=None, options=None):\n",
        "        super().reset(seed=seed)\n",
        "        self._physics.reset() # Reset MuJoCo's internal state to model defaults\n",
        "\n",
        "        # Reset all qpos/qvel to known initial states (important for deterministic restarts)\n",
        "        self._physics.data.qpos[:] = self._initial_qpos_all\n",
        "        self._physics.data.qvel[:] = self._initial_qvel_all\n",
        "\n",
        "        # Delegate reset logic to specific components\n",
        "        self._robot.reset_state()\n",
        "        self._object.reset_state()\n",
        "\n",
        "        # Step physics a few times to stabilize after reset\n",
        "        for _ in range(10): # Simulate 10 steps to allow physics to settle\n",
        "            self._physics.step()\n",
        "\n",
        "        observation = self._observation_builder.build_observation()\n",
        "        info = {}\n",
        "        return observation, info\n",
        "\n",
        "    def step(self, action):\n",
        "        # Clip actions to stay within the action space boundaries\n",
        "        clipped_action = np.clip(action, self.action_space.low, self.action_space.high)\n",
        "\n",
        "        # Apply actions to the robot's actuators\n",
        "        self._robot.set_commands(clipped_action)\n",
        "\n",
        "        # Simulate for 'num_substeps' to cover 'control_timestep' duration\n",
        "        num_substeps = int(self.control_timestep / self._model.opt.timestep)\n",
        "        for _ in range(num_substeps):\n",
        "            self._physics.step()\n",
        "\n",
        "        reward = self._reward_composer.get_total_reward()\n",
        "\n",
        "        # Check for episode termination (time limit)\n",
        "        terminated = False\n",
        "        if self._physics.data.time >= self.episode_duration:\n",
        "            terminated = True\n",
        "\n",
        "        truncated = False # In gymnasium, time limits typically result in 'truncated=True' but for simplicity initially, 'terminated=True' works.\n",
        "\n",
        "        observation = self._observation_builder.build_observation()\n",
        "        info = {}\n",
        "\n",
        "        return observation, reward, terminated, truncated, info\n",
        "\n",
        "    def render(self):\n",
        "        # Render the MuJoCo scene for visualization\n",
        "        return self._physics.render(width=640, height=480, camera_id=0) # You might need to adjust camera_id\n",
        "\n",
        "    def close(self):\n",
        "        # No explicit close needed for dm_control.Physics, but good practice\n",
        "        pass"
      ]
    },
    {
      "cell_type": "markdown",
      "metadata": {
        "id": "L4FqCYlC4tM5"
      },
      "source": [
        "# Instantiation ENV GYM"
      ]
    },
    {
      "cell_type": "code",
      "execution_count": 27,
      "metadata": {
        "colab": {
          "base_uri": "https://localhost:8080/"
        },
        "id": "lKYspj774i6E",
        "outputId": "388fa433-4fc8-461e-afa8-dfcc394e3ef8"
      },
      "outputs": [
        {
          "name": "stderr",
          "output_type": "stream",
          "text": [
            "/usr/local/lib/python3.11/dist-packages/gymnasium/spaces/box.py:236: UserWarning: \u001b[33mWARN: Box low's precision lowered by casting to float32, current low.dtype=float64\u001b[0m\n",
            "  gym.logger.warn(\n",
            "/usr/local/lib/python3.11/dist-packages/gymnasium/spaces/box.py:306: UserWarning: \u001b[33mWARN: Box high's precision lowered by casting to float32, current high.dtype=float64\u001b[0m\n",
            "  gym.logger.warn(\n"
          ]
        }
      ],
      "source": [
        "env = HandManipulationEnv(\n",
        "        physics=physics,\n",
        "        robot=robot,\n",
        "        manipulable_object=manipulable_object,\n",
        "        observation_builder=observation_builder,\n",
        "        reward_composer=reward_composer,\n",
        "        env_config=object_config[\"env\"]\n",
        "    )"
      ]
    },
    {
      "cell_type": "markdown",
      "metadata": {
        "id": "tfcF-v6UCNdQ"
      },
      "source": []
    },
    {
      "cell_type": "markdown",
      "metadata": {
        "id": "lWh0Ts-rL4wi"
      },
      "source": [
        "## **Stabe Baseline3 class**"
      ]
    },
    {
      "cell_type": "code",
      "execution_count": 28,
      "metadata": {
        "colab": {
          "base_uri": "https://localhost:8080/"
        },
        "id": "2Ebw-T1PDh5s",
        "outputId": "2a52b7af-e1ea-4e4f-ba13-f5cf34507235"
      },
      "outputs": [
        {
          "name": "stdout",
          "output_type": "stream",
          "text": [
            "\u001b[2K   \u001b[90m━━━━━━━━━━━━━━━━━━━━━━━━━━━━━━━━━━━━━━━━\u001b[0m \u001b[32m965.4/965.4 kB\u001b[0m \u001b[31m49.9 MB/s\u001b[0m eta \u001b[36m0:00:00\u001b[0m\n",
            "\u001b[2K   \u001b[90m━━━━━━━━━━━━━━━━━━━━━━━━━━━━━━━━━━━━━━━━\u001b[0m \u001b[32m363.4/363.4 MB\u001b[0m \u001b[31m5.3 MB/s\u001b[0m eta \u001b[36m0:00:00\u001b[0m\n",
            "\u001b[2K   \u001b[90m━━━━━━━━━━━━━━━━━━━━━━━━━━━━━━━━━━━━━━━━\u001b[0m \u001b[32m13.8/13.8 MB\u001b[0m \u001b[31m120.4 MB/s\u001b[0m eta \u001b[36m0:00:00\u001b[0m\n",
            "\u001b[2K   \u001b[90m━━━━━━━━━━━━━━━━━━━━━━━━━━━━━━━━━━━━━━━━\u001b[0m \u001b[32m24.6/24.6 MB\u001b[0m \u001b[31m92.1 MB/s\u001b[0m eta \u001b[36m0:00:00\u001b[0m\n",
            "\u001b[2K   \u001b[90m━━━━━━━━━━━━━━━━━━━━━━━━━━━━━━━━━━━━━━━━\u001b[0m \u001b[32m883.7/883.7 kB\u001b[0m \u001b[31m52.2 MB/s\u001b[0m eta \u001b[36m0:00:00\u001b[0m\n",
            "\u001b[2K   \u001b[90m━━━━━━━━━━━━━━━━━━━━━━━━━━━━━━━━━━━━━━━━\u001b[0m \u001b[32m664.8/664.8 MB\u001b[0m \u001b[31m1.3 MB/s\u001b[0m eta \u001b[36m0:00:00\u001b[0m\n",
            "\u001b[2K   \u001b[90m━━━━━━━━━━━━━━━━━━━━━━━━━━━━━━━━━━━━━━━━\u001b[0m \u001b[32m211.5/211.5 MB\u001b[0m \u001b[31m6.0 MB/s\u001b[0m eta \u001b[36m0:00:00\u001b[0m\n",
            "\u001b[2K   \u001b[90m━━━━━━━━━━━━━━━━━━━━━━━━━━━━━━━━━━━━━━━━\u001b[0m \u001b[32m56.3/56.3 MB\u001b[0m \u001b[31m13.2 MB/s\u001b[0m eta \u001b[36m0:00:00\u001b[0m\n",
            "\u001b[2K   \u001b[90m━━━━━━━━━━━━━━━━━━━━━━━━━━━━━━━━━━━━━━━━\u001b[0m \u001b[32m127.9/127.9 MB\u001b[0m \u001b[31m7.2 MB/s\u001b[0m eta \u001b[36m0:00:00\u001b[0m\n",
            "\u001b[2K   \u001b[90m━━━━━━━━━━━━━━━━━━━━━━━━━━━━━━━━━━━━━━━━\u001b[0m \u001b[32m207.5/207.5 MB\u001b[0m \u001b[31m5.7 MB/s\u001b[0m eta \u001b[36m0:00:00\u001b[0m\n",
            "\u001b[2K   \u001b[90m━━━━━━━━━━━━━━━━━━━━━━━━━━━━━━━━━━━━━━━━\u001b[0m \u001b[32m21.1/21.1 MB\u001b[0m \u001b[31m43.8 MB/s\u001b[0m eta \u001b[36m0:00:00\u001b[0m\n",
            "\u001b[2K   \u001b[90m━━━━━━━━━━━━━━━━━━━━━━━━━━━━━━━━━━━━━━━━\u001b[0m \u001b[32m184.5/184.5 kB\u001b[0m \u001b[31m16.1 MB/s\u001b[0m eta \u001b[36m0:00:00\u001b[0m\n",
            "\u001b[?25h"
          ]
        }
      ],
      "source": [
        "!pip install -q stable_baselines3[extra]"
      ]
    },
    {
      "cell_type": "code",
      "execution_count": 29,
      "metadata": {
        "id": "hG9UuRSxCYOW"
      },
      "outputs": [],
      "source": [
        "# src/rl/rl_agent_manager.py\n",
        "from stable_baselines3 import SAC\n",
        "from stable_baselines3.common.env_util import make_vec_env # Not used in this minimal test, but useful\n",
        "from stable_baselines3.common.callbacks import CheckpointCallback\n",
        "import os\n",
        "import gymnasium as gym\n",
        "\n",
        "class RLAgentManager:\n",
        "    \"\"\"Manages the lifecycle of an RL agent (training, saving, loading).\"\"\"\n",
        "\n",
        "    def __init__(self, env: gym.Env, rl_config: dict):\n",
        "        self._env = env\n",
        "        self._rl_config = rl_config\n",
        "        self._model = None\n",
        "\n",
        "        os.makedirs(self._rl_config[\"log_dir\"], exist_ok=True)\n",
        "        os.makedirs(os.path.dirname(self._rl_config[\"model_save_path\"]), exist_ok=True)\n",
        "\n",
        "    def train_agent(self):\n",
        "        \"\"\"Initializes and trains the SAC agent.\"\"\"\n",
        "        print(\"Initializing SAC agent...\")\n",
        "\n",
        "        self._model = SAC(\n",
        "            \"MlpPolicy\",\n",
        "            self._env,\n",
        "            verbose=1,\n",
        "            learning_rate=self._rl_config[\"learning_rate\"],\n",
        "            buffer_size=self._rl_config[\"buffer_size\"],\n",
        "            learning_starts=self._rl_config[\"learning_starts\"],\n",
        "            train_freq=tuple(self._rl_config[\"train_freq\"]),\n",
        "            gradient_steps=self._rl_config[\"gradient_steps\"],\n",
        "            ent_coef=self._rl_config[\"ent_coef\"],\n",
        "            tensorboard_log=self._rl_config[\"log_dir\"]\n",
        "        )\n",
        "\n",
        "        # Callbacks\n",
        "        checkpoint_callback = CheckpointCallback(\n",
        "            save_freq=self._rl_config[\"save_freq\"],\n",
        "            save_path=os.path.join(self._rl_config[\"log_dir\"], \"checkpoints\"),\n",
        "            name_prefix='sac_model'\n",
        "        )\n",
        "\n",
        "        print(f\"Starting training for {self._rl_config['total_timesteps']} timesteps...\")\n",
        "        self._model.learn(\n",
        "            total_timesteps=self._rl_config[\"total_timesteps\"],\n",
        "            progress_bar=True,\n",
        "            callback=[checkpoint_callback]\n",
        "        )\n",
        "        print(\"Training finished!\")\n",
        "        self._model.save(self._rl_config[\"model_save_path\"])\n",
        "        print(f\"Model saved to {self._rl_config['model_save_path']}\")\n",
        "\n",
        "    def evaluate_agent(self, num_episodes: int = 1, render: bool = True):\n",
        "        \"\"\"Evaluates the loaded agent.\"\"\"\n",
        "        if self._model is None:\n",
        "            print(\"No model loaded. Please train or load an agent first.\")\n",
        "            return\n",
        "\n",
        "        print(f\"Evaluating agent for {num_episodes} episodes...\")\n",
        "        for i in range(num_episodes):\n",
        "            obs, info = self._env.reset()\n",
        "            done = False\n",
        "            total_reward = 0\n",
        "            frames = []\n",
        "            while not done:\n",
        "                action, _states = self._model.predict(obs, deterministic=True)\n",
        "                obs, reward, terminated, truncated, info = self._env.step(action)\n",
        "                total_reward += reward\n",
        "                if render:\n",
        "                    frames.append(self._env.render())\n",
        "                done = terminated or truncated\n",
        "            print(f\"Episode {i+1}: Total Reward = {total_reward:.2f}\")\n",
        "            # For Colab, you'd typically save frames and then display them as a video.\n",
        "            # Example (if you have a helper function like display_video):\n",
        "            # if render and frames:\n",
        "            #     from your_utils_file import display_video\n",
        "            #     display_video(frames, fps=1/self._env.control_timestep)\n",
        "        print(\"Evaluation complete.\")"
      ]
    },
    {
      "cell_type": "markdown",
      "metadata": {
        "id": "tFbu_TkPCv9J"
      },
      "source": [
        "## **instantiation**"
      ]
    },
    {
      "cell_type": "code",
      "execution_count": 30,
      "metadata": {
        "colab": {
          "base_uri": "https://localhost:8080/",
          "height": 1000,
          "referenced_widgets": [
            "e03903eb4101447b875fad53fbe0579a",
            "e9917c847c2f4a7ab5f608a9495c36e6"
          ]
        },
        "id": "_IrEyeJ8C0ZD",
        "outputId": "1838d354-1c0b-49cc-b5bb-6479c738fa5c"
      },
      "outputs": [
        {
          "name": "stdout",
          "output_type": "stream",
          "text": [
            "RL Agent Manager initialized.\n",
            "Initializing SAC agent...\n",
            "Using cuda device\n",
            "Wrapping the env with a `Monitor` wrapper\n",
            "Wrapping the env in a DummyVecEnv.\n",
            "Starting training for 50000 timesteps...\n",
            "Logging to ./sac_hand_manipulation_logs/SAC_1\n"
          ]
        },
        {
          "data": {
            "application/vnd.jupyter.widget-view+json": {
              "model_id": "e03903eb4101447b875fad53fbe0579a",
              "version_major": 2,
              "version_minor": 0
            },
            "text/plain": [
              "Output()"
            ]
          },
          "metadata": {},
          "output_type": "display_data"
        },
        {
          "data": {
            "text/html": [
              "<pre style=\"white-space:pre;overflow-x:auto;line-height:normal;font-family:Menlo,'DejaVu Sans Mono',consolas,'Courier New',monospace\">/usr/local/lib/python3.11/dist-packages/ipywidgets/widgets/widget_output.py:111: DeprecationWarning: \n",
              "Kernel._parent_header is deprecated in ipykernel 6. Use .get_parent()\n",
              "  if ip and hasattr(ip, 'kernel') and hasattr(ip.kernel, '_parent_header'):\n",
              "</pre>\n"
            ],
            "text/plain": [
              "/usr/local/lib/python3.11/dist-packages/ipywidgets/widgets/widget_output.py:111: DeprecationWarning: \n",
              "Kernel._parent_header is deprecated in ipykernel 6. Use .get_parent()\n",
              "  if ip and hasattr(ip, 'kernel') and hasattr(ip.kernel, '_parent_header'):\n"
            ]
          },
          "metadata": {},
          "output_type": "display_data"
        },
        {
          "name": "stdout",
          "output_type": "stream",
          "text": [
            "---------------------------------\n",
            "| rollout/           |          |\n",
            "|    ep_len_mean     | 990      |\n",
            "|    ep_rew_mean     | -2.1e+05 |\n",
            "| time/              |          |\n",
            "|    episodes        | 4        |\n",
            "|    fps             | 638      |\n",
            "|    time_elapsed    | 6        |\n",
            "|    total_timesteps | 3960     |\n",
            "| train/             |          |\n",
            "|    actor_loss      | -10.3    |\n",
            "|    critic_loss     | 4.03e+04 |\n",
            "|    ent_coef        | 0.999    |\n",
            "|    ent_coef_loss   | -0.0174  |\n",
            "|    learning_rate   | 0.0003   |\n",
            "|    n_updates       | 3        |\n",
            "---------------------------------\n",
            "----------------------------------\n",
            "| rollout/           |           |\n",
            "|    ep_len_mean     | 990       |\n",
            "|    ep_rew_mean     | -1.74e+05 |\n",
            "| time/              |           |\n",
            "|    episodes        | 8         |\n",
            "|    fps             | 679       |\n",
            "|    time_elapsed    | 11        |\n",
            "|    total_timesteps | 7920      |\n",
            "| train/             |           |\n",
            "|    actor_loss      | -10.3     |\n",
            "|    critic_loss     | 5.31e+04  |\n",
            "|    ent_coef        | 0.998     |\n",
            "|    ent_coef_loss   | -0.0536   |\n",
            "|    learning_rate   | 0.0003    |\n",
            "|    n_updates       | 7         |\n",
            "----------------------------------\n",
            "----------------------------------\n",
            "| rollout/           |           |\n",
            "|    ep_len_mean     | 990       |\n",
            "|    ep_rew_mean     | -1.86e+05 |\n",
            "| time/              |           |\n",
            "|    episodes        | 12        |\n",
            "|    fps             | 696       |\n",
            "|    time_elapsed    | 17        |\n",
            "|    total_timesteps | 11880     |\n",
            "| train/             |           |\n",
            "|    actor_loss      | -9.7      |\n",
            "|    critic_loss     | 5.21e+04  |\n",
            "|    ent_coef        | 0.997     |\n",
            "|    ent_coef_loss   | -0.0899   |\n",
            "|    learning_rate   | 0.0003    |\n",
            "|    n_updates       | 11        |\n",
            "----------------------------------\n",
            "----------------------------------\n",
            "| rollout/           |           |\n",
            "|    ep_len_mean     | 990       |\n",
            "|    ep_rew_mean     | -1.92e+05 |\n",
            "| time/              |           |\n",
            "|    episodes        | 16        |\n",
            "|    fps             | 712       |\n",
            "|    time_elapsed    | 22        |\n",
            "|    total_timesteps | 15840     |\n",
            "| train/             |           |\n",
            "|    actor_loss      | -8.91     |\n",
            "|    critic_loss     | 4.96e+04  |\n",
            "|    ent_coef        | 0.996     |\n",
            "|    ent_coef_loss   | -0.126    |\n",
            "|    learning_rate   | 0.0003    |\n",
            "|    n_updates       | 15        |\n",
            "----------------------------------\n",
            "----------------------------------\n",
            "| rollout/           |           |\n",
            "|    ep_len_mean     | 990       |\n",
            "|    ep_rew_mean     | -1.96e+05 |\n",
            "| time/              |           |\n",
            "|    episodes        | 20        |\n",
            "|    fps             | 708       |\n",
            "|    time_elapsed    | 27        |\n",
            "|    total_timesteps | 19800     |\n",
            "| train/             |           |\n",
            "|    actor_loss      | -8.01     |\n",
            "|    critic_loss     | 3.89e+04  |\n",
            "|    ent_coef        | 0.995     |\n",
            "|    ent_coef_loss   | -0.163    |\n",
            "|    learning_rate   | 0.0003    |\n",
            "|    n_updates       | 19        |\n",
            "----------------------------------\n",
            "----------------------------------\n",
            "| rollout/           |           |\n",
            "|    ep_len_mean     | 990       |\n",
            "|    ep_rew_mean     | -1.98e+05 |\n",
            "| time/              |           |\n",
            "|    episodes        | 24        |\n",
            "|    fps             | 719       |\n",
            "|    time_elapsed    | 33        |\n",
            "|    total_timesteps | 23760     |\n",
            "| train/             |           |\n",
            "|    actor_loss      | -6.8      |\n",
            "|    critic_loss     | 3.85e+04  |\n",
            "|    ent_coef        | 0.993     |\n",
            "|    ent_coef_loss   | -0.199    |\n",
            "|    learning_rate   | 0.0003    |\n",
            "|    n_updates       | 23        |\n",
            "----------------------------------\n",
            "---------------------------------\n",
            "| rollout/           |          |\n",
            "|    ep_len_mean     | 990      |\n",
            "|    ep_rew_mean     | -2e+05   |\n",
            "| time/              |          |\n",
            "|    episodes        | 28       |\n",
            "|    fps             | 714      |\n",
            "|    time_elapsed    | 38       |\n",
            "|    total_timesteps | 27720    |\n",
            "| train/             |          |\n",
            "|    actor_loss      | -5.51    |\n",
            "|    critic_loss     | 3.8e+04  |\n",
            "|    ent_coef        | 0.992    |\n",
            "|    ent_coef_loss   | -0.236   |\n",
            "|    learning_rate   | 0.0003   |\n",
            "|    n_updates       | 27       |\n",
            "---------------------------------\n",
            "----------------------------------\n",
            "| rollout/           |           |\n",
            "|    ep_len_mean     | 990       |\n",
            "|    ep_rew_mean     | -2.01e+05 |\n",
            "| time/              |           |\n",
            "|    episodes        | 32        |\n",
            "|    fps             | 719       |\n",
            "|    time_elapsed    | 44        |\n",
            "|    total_timesteps | 31680     |\n",
            "| train/             |           |\n",
            "|    actor_loss      | -3.77     |\n",
            "|    critic_loss     | 3.75e+04  |\n",
            "|    ent_coef        | 0.991     |\n",
            "|    ent_coef_loss   | -0.272    |\n",
            "|    learning_rate   | 0.0003    |\n",
            "|    n_updates       | 31        |\n",
            "----------------------------------\n",
            "----------------------------------\n",
            "| rollout/           |           |\n",
            "|    ep_len_mean     | 990       |\n",
            "|    ep_rew_mean     | -2.02e+05 |\n",
            "| time/              |           |\n",
            "|    episodes        | 36        |\n",
            "|    fps             | 715       |\n",
            "|    time_elapsed    | 49        |\n",
            "|    total_timesteps | 35640     |\n",
            "| train/             |           |\n",
            "|    actor_loss      | -2.06     |\n",
            "|    critic_loss     | 3.68e+04  |\n",
            "|    ent_coef        | 0.99      |\n",
            "|    ent_coef_loss   | -0.309    |\n",
            "|    learning_rate   | 0.0003    |\n",
            "|    n_updates       | 35        |\n",
            "----------------------------------\n",
            "----------------------------------\n",
            "| rollout/           |           |\n",
            "|    ep_len_mean     | 990       |\n",
            "|    ep_rew_mean     | -2.03e+05 |\n",
            "| time/              |           |\n",
            "|    episodes        | 40        |\n",
            "|    fps             | 720       |\n",
            "|    time_elapsed    | 54        |\n",
            "|    total_timesteps | 39600     |\n",
            "| train/             |           |\n",
            "|    actor_loss      | 0.206     |\n",
            "|    critic_loss     | 3.61e+04  |\n",
            "|    ent_coef        | 0.989     |\n",
            "|    ent_coef_loss   | -0.345    |\n",
            "|    learning_rate   | 0.0003    |\n",
            "|    n_updates       | 39        |\n",
            "----------------------------------\n",
            "----------------------------------\n",
            "| rollout/           |           |\n",
            "|    ep_len_mean     | 990       |\n",
            "|    ep_rew_mean     | -2.04e+05 |\n",
            "| time/              |           |\n",
            "|    episodes        | 44        |\n",
            "|    fps             | 721       |\n",
            "|    time_elapsed    | 60        |\n",
            "|    total_timesteps | 43560     |\n",
            "| train/             |           |\n",
            "|    actor_loss      | 2.62      |\n",
            "|    critic_loss     | 3.53e+04  |\n",
            "|    ent_coef        | 0.987     |\n",
            "|    ent_coef_loss   | -0.381    |\n",
            "|    learning_rate   | 0.0003    |\n",
            "|    n_updates       | 43        |\n",
            "----------------------------------\n",
            "----------------------------------\n",
            "| rollout/           |           |\n",
            "|    ep_len_mean     | 990       |\n",
            "|    ep_rew_mean     | -2.04e+05 |\n",
            "| time/              |           |\n",
            "|    episodes        | 48        |\n",
            "|    fps             | 722       |\n",
            "|    time_elapsed    | 65        |\n",
            "|    total_timesteps | 47520     |\n",
            "| train/             |           |\n",
            "|    actor_loss      | 5.12      |\n",
            "|    critic_loss     | 3.45e+04  |\n",
            "|    ent_coef        | 0.986     |\n",
            "|    ent_coef_loss   | -0.418    |\n",
            "|    learning_rate   | 0.0003    |\n",
            "|    n_updates       | 47        |\n",
            "----------------------------------\n"
          ]
        },
        {
          "data": {
            "text/html": [
              "<pre style=\"white-space:pre;overflow-x:auto;line-height:normal;font-family:Menlo,'DejaVu Sans Mono',consolas,'Courier New',monospace\"></pre>\n"
            ],
            "text/plain": []
          },
          "metadata": {},
          "output_type": "display_data"
        },
        {
          "name": "stdout",
          "output_type": "stream",
          "text": [
            "Training finished!\n",
            "Model saved to ./trained_models/hand_policy.zip\n"
          ]
        }
      ],
      "source": [
        "rl_manager = RLAgentManager(env, object_config[\"rl\"])\n",
        "print(\"RL Agent Manager initialized.\")\n",
        "\n",
        "# --- Action: Train the agent ---\n",
        "rl_manager.train_agent()"
      ]
    },
    {
      "cell_type": "markdown",
      "metadata": {
        "id": "WNGMmFUvFY3V"
      },
      "source": [
        "Load training"
      ]
    },
    {
      "cell_type": "code",
      "execution_count": 31,
      "metadata": {
        "colab": {
          "base_uri": "https://localhost:8080/"
        },
        "id": "K1zifpFYFb47",
        "outputId": "12fcb367-6060-4e3b-c8ef-102c6a77c5cc"
      },
      "outputs": [
        {
          "name": "stdout",
          "output_type": "stream",
          "text": [
            "Wrapping the env with a `Monitor` wrapper\n",
            "Wrapping the env in a DummyVecEnv.\n",
            "Model loaded from ./trained_models/hand_policy.zip\n"
          ]
        }
      ],
      "source": [
        "model_path = \"./trained_models/hand_policy.zip\"\n",
        "model = SAC.load(model_path, env=env)\n",
        "print(f\"Model loaded from {model_path}\")"
      ]
    },
    {
      "cell_type": "markdown",
      "metadata": {
        "id": "U7htKjlTFfYk"
      },
      "source": [
        "Video after training"
      ]
    },
    {
      "cell_type": "code",
      "execution_count": 38,
      "metadata": {
        "colab": {
          "base_uri": "https://localhost:8080/",
          "height": 573
        },
        "id": "Sjwhe8NuFiGi",
        "outputId": "13fa0435-de4b-4d03-bfbd-f8a10f206e84"
      },
      "outputs": [
        {
          "name": "stdout",
          "output_type": "stream",
          "text": [
            "Wrapping the env with a `Monitor` wrapper\n",
            "Wrapping the env in a DummyVecEnv.\n",
            "✅ Model loaded from: ./trained_models/hand_policy.zip\n"
          ]
        },
        {
          "data": {
            "text/html": [
              "\n",
              "      <video width=640 height=480 controls>\n",
              "            <source src=\"data:video/mp4;base64,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\" type=\"video/mp4\">\n",
              "      </video>\n",
              "    "
            ],
            "text/plain": [
              "<IPython.core.display.HTML object>"
            ]
          },
          "execution_count": 38,
          "metadata": {},
          "output_type": "execute_result"
        }
      ],
      "source": [
        "# Imports\n",
        "import numpy as np\n",
        "from stable_baselines3 import SAC\n",
        "from IPython.display import HTML\n",
        "from base64 import b64encode\n",
        "import matplotlib.pyplot as plt\n",
        "\n",
        "# Helper function to display video in Colab\n",
        "def display_video(frames, framerate=30):\n",
        "    import imageio\n",
        "    from pathlib import Path\n",
        "    import io\n",
        "\n",
        "    video_path = \"/tmp/simulation.mp4\"\n",
        "    imageio.mimsave(video_path, frames, fps=framerate)\n",
        "\n",
        "    mp4 = open(video_path, 'rb').read()\n",
        "    b64 = b64encode(mp4).decode('ascii')\n",
        "    html = f'''\n",
        "      <video width=640 height=480 controls>\n",
        "            <source src=\"data:video/mp4;base64,{b64}\" type=\"video/mp4\">\n",
        "      </video>\n",
        "    '''\n",
        "    return HTML(html)\n",
        "\n",
        "# Setup\n",
        "duration = 4      # seconds\n",
        "framerate = 30    # Hz\n",
        "max_steps = duration * framerate\n",
        "\n",
        "# Load the trained model\n",
        "model_path = \"./trained_models/hand_policy.zip\"\n",
        "model = SAC.load(model_path, env=env)\n",
        "print(f\"✅ Model loaded from: {model_path}\")\n",
        "\n",
        "# Reset environment\n",
        "obs, info = env.reset()\n",
        "frames = []\n",
        "\n",
        "# For rendering with joint visualization\n",
        "scene_option = mujoco.wrapper.core.MjvOption()\n",
        "scene_option.flags[enums.mjtVisFlag.mjVIS_JOINT] = True\n",
        "\n",
        "# Collect frames\n",
        "for _ in range(max_steps):\n",
        "    action, _ = model.predict(obs, deterministic=True)\n",
        "    obs, reward, terminated, truncated, info = env.step(action)\n",
        "\n",
        "    # Render and store frame\n",
        "    pixels = physics.render(scene_option=scene_option)\n",
        "    frames.append(pixels)\n",
        "\n",
        "    if terminated or truncated:\n",
        "        print(\"Episode finished early.\")\n",
        "        break\n",
        "\n",
        "# Display video\n",
        "display_video(frames, framerate)"
      ]
    }
  ],
  "metadata": {
    "accelerator": "GPU",
    "colab": {
      "gpuType": "T4",
      "include_colab_link": true,
      "provenance": []
    },
    "kernelspec": {
      "display_name": "Python 3",
      "name": "python3"
    },
    "language_info": {
      "name": "python"
    },
    "widgets": {
      "application/vnd.jupyter.widget-state+json": {
        "e03903eb4101447b875fad53fbe0579a": {
          "model_module": "@jupyter-widgets/output",
          "model_module_version": "1.0.0",
          "model_name": "OutputModel",
          "state": {
            "_dom_classes": [],
            "_model_module": "@jupyter-widgets/output",
            "_model_module_version": "1.0.0",
            "_model_name": "OutputModel",
            "_view_count": null,
            "_view_module": "@jupyter-widgets/output",
            "_view_module_version": "1.0.0",
            "_view_name": "OutputView",
            "layout": "IPY_MODEL_e9917c847c2f4a7ab5f608a9495c36e6",
            "msg_id": "",
            "outputs": [
              {
                "data": {
                  "text/html": "<pre style=\"white-space:pre;overflow-x:auto;line-height:normal;font-family:Menlo,'DejaVu Sans Mono',consolas,'Courier New',monospace\"><span style=\"color: #800080; text-decoration-color: #800080\"> 100%</span> <span style=\"color: #729c1f; text-decoration-color: #729c1f\">━━━━━━━━━━━━━━━━━━━━━━━━━━━━━━━━━━━━━━━━━━━━━━━━━━━━━━━━━━━━━</span> <span style=\"color: #008000; text-decoration-color: #008000\">50,401/50,000 </span> [ <span style=\"color: #808000; text-decoration-color: #808000\">0:01:08</span> &lt; <span style=\"color: #008080; text-decoration-color: #008080\">0:00:00</span> , <span style=\"color: #800000; text-decoration-color: #800000\">737 it/s</span> ]\n</pre>\n",
                  "text/plain": "\u001b[35m 100%\u001b[0m \u001b[38;2;114;156;31m━━━━━━━━━━━━━━━━━━━━━━━━━━━━━━━━━━━━━━━━━━━━━━━━━━━━━━━━━━━━━\u001b[0m \u001b[32m50,401/50,000 \u001b[0m [ \u001b[33m0:01:08\u001b[0m < \u001b[36m0:00:00\u001b[0m , \u001b[31m737 it/s\u001b[0m ]\n"
                },
                "metadata": {},
                "output_type": "display_data"
              }
            ]
          }
        },
        "e9917c847c2f4a7ab5f608a9495c36e6": {
          "model_module": "@jupyter-widgets/base",
          "model_module_version": "1.2.0",
          "model_name": "LayoutModel",
          "state": {
            "_model_module": "@jupyter-widgets/base",
            "_model_module_version": "1.2.0",
            "_model_name": "LayoutModel",
            "_view_count": null,
            "_view_module": "@jupyter-widgets/base",
            "_view_module_version": "1.2.0",
            "_view_name": "LayoutView",
            "align_content": null,
            "align_items": null,
            "align_self": null,
            "border": null,
            "bottom": null,
            "display": null,
            "flex": null,
            "flex_flow": null,
            "grid_area": null,
            "grid_auto_columns": null,
            "grid_auto_flow": null,
            "grid_auto_rows": null,
            "grid_column": null,
            "grid_gap": null,
            "grid_row": null,
            "grid_template_areas": null,
            "grid_template_columns": null,
            "grid_template_rows": null,
            "height": null,
            "justify_content": null,
            "justify_items": null,
            "left": null,
            "margin": null,
            "max_height": null,
            "max_width": null,
            "min_height": null,
            "min_width": null,
            "object_fit": null,
            "object_position": null,
            "order": null,
            "overflow": null,
            "overflow_x": null,
            "overflow_y": null,
            "padding": null,
            "right": null,
            "top": null,
            "visibility": null,
            "width": null
          }
        }
      }
    }
  },
  "nbformat": 4,
  "nbformat_minor": 0
}
